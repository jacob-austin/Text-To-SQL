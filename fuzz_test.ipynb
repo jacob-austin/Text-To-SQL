{
 "cells": [
  {
   "cell_type": "code",
   "execution_count": 1,
   "metadata": {},
   "outputs": [],
   "source": [
    "from sql_util.dbinfo import get_all_db_info_path\n",
    "from pprint import pprint"
   ]
  },
  {
   "cell_type": "code",
   "execution_count": 15,
   "metadata": {},
   "outputs": [],
   "source": [
    "import process_sql\n",
    "\n",
    "import pickle\n",
    "\n",
    "dataset = None\n",
    "\n",
    "with open(\"dataset/classical_test.pkl\", \"rb\") as file:\n",
    "    dataset = pickle.load(file)\n"
   ]
  },
  {
   "cell_type": "code",
   "execution_count": 16,
   "metadata": {},
   "outputs": [],
   "source": [
    "import random\n",
    "\n",
    "random.seed(10)\n",
    "\n",
    "random.shuffle(dataset)\n",
    "\n",
    "train_data = dataset[:int(len(dataset) * .8)]\n",
    "test_data = dataset[int(len(dataset) * .8):]"
   ]
  },
  {
   "cell_type": "code",
   "execution_count": 17,
   "metadata": {},
   "outputs": [],
   "source": [
    "inputs = [ex['text'] for ex in train_data]\n",
    "targets = [ex['query'] for ex in train_data]\n",
    "target_db_paths = [ex['db_path'] for ex in train_data]"
   ]
  },
  {
   "cell_type": "code",
   "execution_count": 18,
   "metadata": {},
   "outputs": [
    {
     "data": {
      "text/plain": [
       "'SELECT COUNT( DISTINCT ( PUBLICATIONalias0.TITLE ) ) FROM AUTHOR AS AUTHORalias0 , CONFERENCE AS CONFERENCEalias0 , PUBLICATION AS PUBLICATIONalias0 , WRITES AS WRITESalias0 WHERE AUTHORalias0.NAME = \"H. V. Jagadish\" AND CONFERENCEalias0.NAME = \"VLDB\" AND PUBLICATIONalias0.CID = CONFERENCEalias0.CID AND WRITESalias0.AID = AUTHORalias0.AID AND WRITESalias0.PID = PUBLICATIONalias0.PID ;'"
      ]
     },
     "execution_count": 18,
     "metadata": {},
     "output_type": "execute_result"
    }
   ],
   "source": [
    "targets[10]"
   ]
  },
  {
   "cell_type": "code",
   "execution_count": 19,
   "metadata": {},
   "outputs": [
    {
     "ename": "AssertionError",
     "evalue": "Error col: (",
     "output_type": "error",
     "traceback": [
      "\u001b[1;31m---------------------------------------------------------------------------\u001b[0m",
      "\u001b[1;31mAssertionError\u001b[0m                            Traceback (most recent call last)",
      "\u001b[1;32m~\\AppData\\Local\\Temp/ipykernel_20780/2310884834.py\u001b[0m in \u001b[0;36m<module>\u001b[1;34m\u001b[0m\n\u001b[0;32m      5\u001b[0m \u001b[1;33m\u001b[0m\u001b[0m\n\u001b[0;32m      6\u001b[0m \u001b[0mschema\u001b[0m \u001b[1;33m=\u001b[0m \u001b[0mSchema\u001b[0m\u001b[1;33m(\u001b[0m\u001b[0mget_schema\u001b[0m\u001b[1;33m(\u001b[0m\u001b[0mtarget_db_paths\u001b[0m\u001b[1;33m[\u001b[0m\u001b[0mnum\u001b[0m\u001b[1;33m]\u001b[0m\u001b[1;33m)\u001b[0m\u001b[1;33m)\u001b[0m\u001b[1;33m\u001b[0m\u001b[1;33m\u001b[0m\u001b[0m\n\u001b[1;32m----> 7\u001b[1;33m \u001b[0msql\u001b[0m \u001b[1;33m=\u001b[0m \u001b[0mget_sql\u001b[0m\u001b[1;33m(\u001b[0m\u001b[0mschema\u001b[0m\u001b[1;33m,\u001b[0m \u001b[0mtargets\u001b[0m\u001b[1;33m[\u001b[0m\u001b[0mnum\u001b[0m\u001b[1;33m]\u001b[0m\u001b[1;33m)\u001b[0m\u001b[1;33m\u001b[0m\u001b[1;33m\u001b[0m\u001b[0m\n\u001b[0m\u001b[0;32m      8\u001b[0m \u001b[1;33m\u001b[0m\u001b[0m\n\u001b[0;32m      9\u001b[0m \u001b[0msql\u001b[0m\u001b[1;33m\u001b[0m\u001b[1;33m\u001b[0m\u001b[0m\n",
      "\u001b[1;32mc:\\Users\\wasii\\Documents\\NLP_Class_Project\\process_sql.py\u001b[0m in \u001b[0;36mget_sql\u001b[1;34m(schema, query)\u001b[0m\n\u001b[0;32m    593\u001b[0m     \u001b[0mtoks\u001b[0m \u001b[1;33m=\u001b[0m \u001b[0mtokenize\u001b[0m\u001b[1;33m(\u001b[0m\u001b[0mquery\u001b[0m\u001b[1;33m)\u001b[0m\u001b[1;33m\u001b[0m\u001b[1;33m\u001b[0m\u001b[0m\n\u001b[0;32m    594\u001b[0m     \u001b[0mtables_with_alias\u001b[0m \u001b[1;33m=\u001b[0m \u001b[0mget_tables_with_alias\u001b[0m\u001b[1;33m(\u001b[0m\u001b[0mschema\u001b[0m\u001b[1;33m.\u001b[0m\u001b[0mschema\u001b[0m\u001b[1;33m,\u001b[0m \u001b[0mtoks\u001b[0m\u001b[1;33m)\u001b[0m\u001b[1;33m\u001b[0m\u001b[1;33m\u001b[0m\u001b[0m\n\u001b[1;32m--> 595\u001b[1;33m     \u001b[0m_\u001b[0m\u001b[1;33m,\u001b[0m \u001b[0msql\u001b[0m \u001b[1;33m=\u001b[0m \u001b[0mparse_sql\u001b[0m\u001b[1;33m(\u001b[0m\u001b[0mtoks\u001b[0m\u001b[1;33m,\u001b[0m \u001b[1;36m0\u001b[0m\u001b[1;33m,\u001b[0m \u001b[0mtables_with_alias\u001b[0m\u001b[1;33m,\u001b[0m \u001b[0mschema\u001b[0m\u001b[1;33m)\u001b[0m\u001b[1;33m\u001b[0m\u001b[1;33m\u001b[0m\u001b[0m\n\u001b[0m\u001b[0;32m    596\u001b[0m \u001b[1;33m\u001b[0m\u001b[0m\n\u001b[0;32m    597\u001b[0m     \u001b[1;32mreturn\u001b[0m \u001b[0msql\u001b[0m\u001b[1;33m\u001b[0m\u001b[1;33m\u001b[0m\u001b[0m\n",
      "\u001b[1;32mc:\\Users\\wasii\\Documents\\NLP_Class_Project\\process_sql.py\u001b[0m in \u001b[0;36mparse_sql\u001b[1;34m(toks, start_idx, tables_with_alias, schema)\u001b[0m\n\u001b[0;32m    548\u001b[0m     \u001b[0msql\u001b[0m\u001b[1;33m[\u001b[0m\u001b[1;34m'from'\u001b[0m\u001b[1;33m]\u001b[0m \u001b[1;33m=\u001b[0m \u001b[1;33m{\u001b[0m\u001b[1;34m'table_units'\u001b[0m\u001b[1;33m:\u001b[0m \u001b[0mtable_units\u001b[0m\u001b[1;33m,\u001b[0m \u001b[1;34m'conds'\u001b[0m\u001b[1;33m:\u001b[0m \u001b[0mconds\u001b[0m\u001b[1;33m}\u001b[0m\u001b[1;33m\u001b[0m\u001b[1;33m\u001b[0m\u001b[0m\n\u001b[0;32m    549\u001b[0m     \u001b[1;31m# select clause\u001b[0m\u001b[1;33m\u001b[0m\u001b[1;33m\u001b[0m\u001b[1;33m\u001b[0m\u001b[0m\n\u001b[1;32m--> 550\u001b[1;33m     \u001b[0m_\u001b[0m\u001b[1;33m,\u001b[0m \u001b[0mselect_col_units\u001b[0m \u001b[1;33m=\u001b[0m \u001b[0mparse_select\u001b[0m\u001b[1;33m(\u001b[0m\u001b[0mtoks\u001b[0m\u001b[1;33m,\u001b[0m \u001b[0midx\u001b[0m\u001b[1;33m,\u001b[0m \u001b[0mtables_with_alias\u001b[0m\u001b[1;33m,\u001b[0m \u001b[0mschema\u001b[0m\u001b[1;33m,\u001b[0m \u001b[0mdefault_tables\u001b[0m\u001b[1;33m)\u001b[0m\u001b[1;33m\u001b[0m\u001b[1;33m\u001b[0m\u001b[0m\n\u001b[0m\u001b[0;32m    551\u001b[0m     \u001b[0midx\u001b[0m \u001b[1;33m=\u001b[0m \u001b[0mfrom_end_idx\u001b[0m\u001b[1;33m\u001b[0m\u001b[1;33m\u001b[0m\u001b[0m\n\u001b[0;32m    552\u001b[0m     \u001b[0msql\u001b[0m\u001b[1;33m[\u001b[0m\u001b[1;34m'select'\u001b[0m\u001b[1;33m]\u001b[0m \u001b[1;33m=\u001b[0m \u001b[0mselect_col_units\u001b[0m\u001b[1;33m\u001b[0m\u001b[1;33m\u001b[0m\u001b[0m\n",
      "\u001b[1;32mc:\\Users\\wasii\\Documents\\NLP_Class_Project\\process_sql.py\u001b[0m in \u001b[0;36mparse_select\u001b[1;34m(toks, start_idx, tables_with_alias, schema, default_tables)\u001b[0m\n\u001b[0;32m    376\u001b[0m             \u001b[0magg_id\u001b[0m \u001b[1;33m=\u001b[0m \u001b[0mAGG_OPS\u001b[0m\u001b[1;33m.\u001b[0m\u001b[0mindex\u001b[0m\u001b[1;33m(\u001b[0m\u001b[0mtoks\u001b[0m\u001b[1;33m[\u001b[0m\u001b[0midx\u001b[0m\u001b[1;33m]\u001b[0m\u001b[1;33m)\u001b[0m\u001b[1;33m\u001b[0m\u001b[1;33m\u001b[0m\u001b[0m\n\u001b[0;32m    377\u001b[0m             \u001b[0midx\u001b[0m \u001b[1;33m+=\u001b[0m \u001b[1;36m1\u001b[0m\u001b[1;33m\u001b[0m\u001b[1;33m\u001b[0m\u001b[0m\n\u001b[1;32m--> 378\u001b[1;33m         \u001b[0midx\u001b[0m\u001b[1;33m,\u001b[0m \u001b[0mval_unit\u001b[0m \u001b[1;33m=\u001b[0m \u001b[0mparse_val_unit\u001b[0m\u001b[1;33m(\u001b[0m\u001b[0mtoks\u001b[0m\u001b[1;33m,\u001b[0m \u001b[0midx\u001b[0m\u001b[1;33m,\u001b[0m \u001b[0mtables_with_alias\u001b[0m\u001b[1;33m,\u001b[0m \u001b[0mschema\u001b[0m\u001b[1;33m,\u001b[0m \u001b[0mdefault_tables\u001b[0m\u001b[1;33m)\u001b[0m\u001b[1;33m\u001b[0m\u001b[1;33m\u001b[0m\u001b[0m\n\u001b[0m\u001b[0;32m    379\u001b[0m         \u001b[0mval_units\u001b[0m\u001b[1;33m.\u001b[0m\u001b[0mappend\u001b[0m\u001b[1;33m(\u001b[0m\u001b[1;33m(\u001b[0m\u001b[0magg_id\u001b[0m\u001b[1;33m,\u001b[0m \u001b[0mval_unit\u001b[0m\u001b[1;33m)\u001b[0m\u001b[1;33m)\u001b[0m\u001b[1;33m\u001b[0m\u001b[1;33m\u001b[0m\u001b[0m\n\u001b[0;32m    380\u001b[0m         \u001b[1;32mif\u001b[0m \u001b[0midx\u001b[0m \u001b[1;33m<\u001b[0m \u001b[0mlen_\u001b[0m \u001b[1;32mand\u001b[0m \u001b[0mtoks\u001b[0m\u001b[1;33m[\u001b[0m\u001b[0midx\u001b[0m\u001b[1;33m]\u001b[0m \u001b[1;33m==\u001b[0m \u001b[1;34m','\u001b[0m\u001b[1;33m:\u001b[0m\u001b[1;33m\u001b[0m\u001b[1;33m\u001b[0m\u001b[0m\n",
      "\u001b[1;32mc:\\Users\\wasii\\Documents\\NLP_Class_Project\\process_sql.py\u001b[0m in \u001b[0;36mparse_val_unit\u001b[1;34m(toks, start_idx, tables_with_alias, schema, default_tables)\u001b[0m\n\u001b[0;32m    249\u001b[0m     \u001b[0munit_op\u001b[0m \u001b[1;33m=\u001b[0m \u001b[0mUNIT_OPS\u001b[0m\u001b[1;33m.\u001b[0m\u001b[0mindex\u001b[0m\u001b[1;33m(\u001b[0m\u001b[1;34m'none'\u001b[0m\u001b[1;33m)\u001b[0m\u001b[1;33m\u001b[0m\u001b[1;33m\u001b[0m\u001b[0m\n\u001b[0;32m    250\u001b[0m \u001b[1;33m\u001b[0m\u001b[0m\n\u001b[1;32m--> 251\u001b[1;33m     \u001b[0midx\u001b[0m\u001b[1;33m,\u001b[0m \u001b[0mcol_unit1\u001b[0m \u001b[1;33m=\u001b[0m \u001b[0mparse_col_unit\u001b[0m\u001b[1;33m(\u001b[0m\u001b[0mtoks\u001b[0m\u001b[1;33m,\u001b[0m \u001b[0midx\u001b[0m\u001b[1;33m,\u001b[0m \u001b[0mtables_with_alias\u001b[0m\u001b[1;33m,\u001b[0m \u001b[0mschema\u001b[0m\u001b[1;33m,\u001b[0m \u001b[0mdefault_tables\u001b[0m\u001b[1;33m)\u001b[0m\u001b[1;33m\u001b[0m\u001b[1;33m\u001b[0m\u001b[0m\n\u001b[0m\u001b[0;32m    252\u001b[0m     \u001b[1;32mif\u001b[0m \u001b[0midx\u001b[0m \u001b[1;33m<\u001b[0m \u001b[0mlen_\u001b[0m \u001b[1;32mand\u001b[0m \u001b[0mtoks\u001b[0m\u001b[1;33m[\u001b[0m\u001b[0midx\u001b[0m\u001b[1;33m]\u001b[0m \u001b[1;32min\u001b[0m \u001b[0mUNIT_OPS\u001b[0m\u001b[1;33m:\u001b[0m\u001b[1;33m\u001b[0m\u001b[1;33m\u001b[0m\u001b[0m\n\u001b[0;32m    253\u001b[0m         \u001b[0munit_op\u001b[0m \u001b[1;33m=\u001b[0m \u001b[0mUNIT_OPS\u001b[0m\u001b[1;33m.\u001b[0m\u001b[0mindex\u001b[0m\u001b[1;33m(\u001b[0m\u001b[0mtoks\u001b[0m\u001b[1;33m[\u001b[0m\u001b[0midx\u001b[0m\u001b[1;33m]\u001b[0m\u001b[1;33m)\u001b[0m\u001b[1;33m\u001b[0m\u001b[1;33m\u001b[0m\u001b[0m\n",
      "\u001b[1;32mc:\\Users\\wasii\\Documents\\NLP_Class_Project\\process_sql.py\u001b[0m in \u001b[0;36mparse_col_unit\u001b[1;34m(toks, start_idx, tables_with_alias, schema, default_tables)\u001b[0m\n\u001b[0;32m    227\u001b[0m         \u001b[0misDistinct\u001b[0m \u001b[1;33m=\u001b[0m \u001b[1;32mTrue\u001b[0m\u001b[1;33m\u001b[0m\u001b[1;33m\u001b[0m\u001b[0m\n\u001b[0;32m    228\u001b[0m     \u001b[0magg_id\u001b[0m \u001b[1;33m=\u001b[0m \u001b[0mAGG_OPS\u001b[0m\u001b[1;33m.\u001b[0m\u001b[0mindex\u001b[0m\u001b[1;33m(\u001b[0m\u001b[1;34m\"none\"\u001b[0m\u001b[1;33m)\u001b[0m\u001b[1;33m\u001b[0m\u001b[1;33m\u001b[0m\u001b[0m\n\u001b[1;32m--> 229\u001b[1;33m     \u001b[0midx\u001b[0m\u001b[1;33m,\u001b[0m \u001b[0mcol_id\u001b[0m \u001b[1;33m=\u001b[0m \u001b[0mparse_col\u001b[0m\u001b[1;33m(\u001b[0m\u001b[0mtoks\u001b[0m\u001b[1;33m,\u001b[0m \u001b[0midx\u001b[0m\u001b[1;33m,\u001b[0m \u001b[0mtables_with_alias\u001b[0m\u001b[1;33m,\u001b[0m \u001b[0mschema\u001b[0m\u001b[1;33m,\u001b[0m \u001b[0mdefault_tables\u001b[0m\u001b[1;33m)\u001b[0m\u001b[1;33m\u001b[0m\u001b[1;33m\u001b[0m\u001b[0m\n\u001b[0m\u001b[0;32m    230\u001b[0m \u001b[1;33m\u001b[0m\u001b[0m\n\u001b[0;32m    231\u001b[0m     \u001b[1;32mif\u001b[0m \u001b[0misBlock\u001b[0m\u001b[1;33m:\u001b[0m\u001b[1;33m\u001b[0m\u001b[1;33m\u001b[0m\u001b[0m\n",
      "\u001b[1;32mc:\\Users\\wasii\\Documents\\NLP_Class_Project\\process_sql.py\u001b[0m in \u001b[0;36mparse_col\u001b[1;34m(toks, start_idx, tables_with_alias, schema, default_tables)\u001b[0m\n\u001b[0;32m    194\u001b[0m             \u001b[1;32mreturn\u001b[0m \u001b[0mstart_idx\u001b[0m\u001b[1;33m+\u001b[0m\u001b[1;36m1\u001b[0m\u001b[1;33m,\u001b[0m \u001b[0mschema\u001b[0m\u001b[1;33m.\u001b[0m\u001b[0midMap\u001b[0m\u001b[1;33m[\u001b[0m\u001b[0mkey\u001b[0m\u001b[1;33m]\u001b[0m\u001b[1;33m\u001b[0m\u001b[1;33m\u001b[0m\u001b[0m\n\u001b[0;32m    195\u001b[0m \u001b[1;33m\u001b[0m\u001b[0m\n\u001b[1;32m--> 196\u001b[1;33m     \u001b[1;32massert\u001b[0m \u001b[1;32mFalse\u001b[0m\u001b[1;33m,\u001b[0m \u001b[1;34m\"Error col: {}\"\u001b[0m\u001b[1;33m.\u001b[0m\u001b[0mformat\u001b[0m\u001b[1;33m(\u001b[0m\u001b[0mtok\u001b[0m\u001b[1;33m)\u001b[0m\u001b[1;33m\u001b[0m\u001b[1;33m\u001b[0m\u001b[0m\n\u001b[0m\u001b[0;32m    197\u001b[0m \u001b[1;33m\u001b[0m\u001b[0m\n\u001b[0;32m    198\u001b[0m \u001b[1;33m\u001b[0m\u001b[0m\n",
      "\u001b[1;31mAssertionError\u001b[0m: Error col: ("
     ]
    }
   ],
   "source": [
    "from process_sql import get_sql, get_schema, Schema\n",
    "import os\n",
    "\n",
    "num = 10\n",
    "\n",
    "schema = Schema(get_schema(target_db_paths[num]))\n",
    "sql = get_sql(schema, targets[num])\n",
    "\n",
    "sql"
   ]
  },
  {
   "cell_type": "code",
   "execution_count": 9,
   "metadata": {},
   "outputs": [],
   "source": [
    "original_database_path = 'concert_singer.sqlite'\n",
    "table_column2properties, column_references, table_column2elements = get_all_db_info_path(original_database_path)"
   ]
  },
  {
   "cell_type": "code",
   "execution_count": 10,
   "metadata": {},
   "outputs": [
    {
     "name": "stdout",
     "output_type": "stream",
     "text": [
      "('stadium', 'STADIUM_ID') [1, 2, 3, 4, 5, 6, 7, 9, 10]\n",
      "('stadium', 'LOCATION') ['Raith Rovers', 'Ayr United', 'East Fife', \"Queen's Park\", 'Stirling Albion', 'Arbroath', 'Alloa Athletic', 'Peterhead', 'Brechin City']\n",
      "('stadium', 'NAME') [\"Stark's Park\", 'Somerset Park', 'Bayview Stadium', 'Hampden Park', 'Forthbank Stadium', 'Gayfield Park', 'Recreation Park', 'Balmoor', 'Glebe Park']\n",
      "('stadium', 'CAPACITY') [10104, 11998, 2000, 52500, 3808, 4125, 3100, 4000, 3960]\n",
      "('stadium', 'HIGHEST') [4812, 2363, 1980, 1763, 1125, 921, 1057, 837, 780]\n",
      "('stadium', 'LOWEST') [1294, 1057, 533, 466, 404, 411, 331, 400, 315]\n",
      "('stadium', 'AVERAGE') [2106, 1477, 864, 730, 642, 638, 637, 615, 552]\n"
     ]
    }
   ],
   "source": [
    "for k, v in table_column2elements.items():\n",
    "    if k[0] == 'stadium':\n",
    "        print(k, v)"
   ]
  },
  {
   "cell_type": "code",
   "execution_count": 11,
   "metadata": {},
   "outputs": [],
   "source": [
    "gold_query = 'select location from stadium where capacity < 100000 ;'"
   ]
  },
  {
   "cell_type": "code",
   "execution_count": 12,
   "metadata": {},
   "outputs": [
    {
     "name": "stdout",
     "output_type": "stream",
     "text": [
      "['select location from stadium where capacity < -13376 ;',\n",
      " 'select location from stadium where capacity < -63644 ;',\n",
      " 'select location from stadium where capacity < 100001 ;',\n",
      " 'select location from stadium where capacity < -8615 ;',\n",
      " 'select location from stadium where LOWEST < 100000 ;',\n",
      " 'select location from stadium where capacity < -96720 ;',\n",
      " 'select location from stadium where 100000 ;',\n",
      " 'select location from stadium where STADIUM_ID < 100000 ;',\n",
      " 'select location from stadium where capacity != 100000 ;',\n",
      " 'select location from stadium where LOCATION < 100000 ;']\n",
      "There are 40 neighbor queries generated for the gold query.\n"
     ]
    }
   ],
   "source": [
    "from fuzz.neighbor import generate_neighbor_queries_path\n",
    "\n",
    "neighbors = generate_neighbor_queries_path(original_database_path, gold_query)\n",
    "import random\n",
    "random.shuffle(neighbors)\n",
    "pprint(neighbors[:10])\n",
    "print('There are', len(neighbors), 'neighbor queries generated for the gold query.')"
   ]
  },
  {
   "cell_type": "code",
   "execution_count": 13,
   "metadata": {},
   "outputs": [
    {
     "name": "stdout",
     "output_type": "stream",
     "text": [
      "now fuzzing based on database concert_singer.sqlite, target path concert_singer.sqlite.\n"
     ]
    }
   ],
   "source": [
    "from fuzz.fuzz import generate_random_db_with_queries_wrapper\n",
    "\n",
    "generate_random_db_with_queries_wrapper((original_database_path, original_database_path, [gold_query], {}))"
   ]
  },
  {
   "cell_type": "code",
   "execution_count": 14,
   "metadata": {},
   "outputs": [],
   "source": [
    "from utils import data_parser"
   ]
  }
 ],
 "metadata": {
  "interpreter": {
   "hash": "3c878c9b994d3130a8587bef869283fae8785e1af01dd2209a6ee87991ee7ef6"
  },
  "kernelspec": {
   "display_name": "Python 3.7.11 ('NLP_class')",
   "language": "python",
   "name": "python3"
  },
  "language_info": {
   "codemirror_mode": {
    "name": "ipython",
    "version": 3
   },
   "file_extension": ".py",
   "mimetype": "text/x-python",
   "name": "python",
   "nbconvert_exporter": "python",
   "pygments_lexer": "ipython3",
   "version": "3.7.11"
  },
  "orig_nbformat": 4
 },
 "nbformat": 4,
 "nbformat_minor": 2
}
